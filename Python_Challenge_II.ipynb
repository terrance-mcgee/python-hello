{
  "nbformat": 4,
  "nbformat_minor": 0,
  "metadata": {
    "colab": {
      "name": "of Python Challenge II.ipynb",
      "provenance": [],
      "include_colab_link": true
    },
    "kernelspec": {
      "display_name": "Python 3",
      "name": "python3"
    },
    "language_info": {
      "name": "python"
    }
  },
  "cells": [
    {
      "cell_type": "markdown",
      "metadata": {
        "id": "view-in-github",
        "colab_type": "text"
      },
      "source": [
        "<a href=\"https://colab.research.google.com/github/terrance-mcgee/python-hello/blob/main/Python_Challenge_II.ipynb\" target=\"_parent\"><img src=\"https://colab.research.google.com/assets/colab-badge.svg\" alt=\"Open In Colab\"/></a>"
      ]
    },
    {
      "cell_type": "code",
      "metadata": {
        "id": "6JyFC8gssH7R"
      },
      "source": [
        ""
      ],
      "execution_count": null,
      "outputs": []
    },
    {
      "cell_type": "code",
      "metadata": {
        "id": "RK3DMUCUlMzU",
        "colab": {
          "base_uri": "https://localhost:8080/"
        },
        "outputId": "13bc23e4-5407-455b-b6f9-bdc66a8d9cf7"
      },
      "source": [
        "print('Welcome to the Quiz! Let us do a Quick Knowledge Assessment. Multiple answers will be separated by the word (and)')\n",
        "answer=str.lower(input('Are you ready to play? (yes/no) :'))\n",
        "if answer =='yes':\n",
        "    answer=str.lower(input('Question 1: How many states is in the USA?'))\n",
        "    if answer=='50':\n",
        "        print('correct')\n",
        "    else:\n",
        "        print('Wrong Answer :(The correct answer is : 50)')\n",
        " \n",
        "    answer=str.lower(input('Question 2: What is Americas favorite pie? '))\n",
        "    if answer=='Apple':\n",
        "        print('correct')\n",
        "    else:\n",
        "        print('Wrong Answer :(The correct answer is: Apple')\n",
        " \n",
        "    answer=str.lower(input('Question 3: What are the two App Engine envoroments?'))\n",
        "    if answer=='standard and flexable' or 'flexable and standard':\n",
        "        print('correct')\n",
        "    else:\n",
        "        print('Wrong Answer :(The correct answer is: standard and flexable')\n",
        "\n",
        "    answer=str.lower(input('Question 4: Who made Playstation ?'))\n",
        "    if answer=='Sony':\n",
        "        print('correct')\n",
        "    else:\n",
        "        print('Wrong Answer :(The correct answer is: Sony')\n",
        "\n",
        "    answer=str.lower(input('Question 5: True or False: You must stop at all red lights?'))\n",
        "    if answer=='true':\n",
        "        print('correct')\n",
        "    else:\n",
        "        print('Wrong Answer :(The correct answer is: true')\n",
        "\n",
        "    answer=str.lower(input('Question 6: What is the type of storage of your hard disk?'))\n",
        "    if answer=='block storage':\n",
        "        print('correct')\n",
        "    else:\n",
        "        print('Wrong Answer :(The correct answer is: Block Storage')\n",
        "\n",
        "    answer=str.lower(input('Question 7: What comes after spring?'))\n",
        "    if answer=='summer':\n",
        "        print('correct')\n",
        "    else:\n",
        "        print('Wrong Answer :(The correct answer is: summer')\n",
        "\n",
        "    answer=str.lower(input('Question 8: What is the capital of Louisiana?'))\n",
        "    if answer=='Baton Rouge':\n",
        "        print('correct')\n",
        "    else:\n",
        "        print('Wrong Answer :(The correct answer is: Baton Rouge')\n",
        "\n",
        "    answer=str.lower(input('Question 9: Who is the best NFL team?'))\n",
        "    if answer=='Saints':\n",
        "        print('correct')\n",
        "    else:\n",
        "        print('Wrong Answer :(The correct answer is: saints')\n",
        "\n",
        "    answer=str.lower(input('Question 10: What are the two types of billing accounts?'))\n",
        "    if answer=='invoiced and self serve' or 'self serve and invoiced':\n",
        "\n",
        "        print('correct')\n",
        "    else:\n",
        "        print('Wrong Answer :(The correct answer is: invoiced and self serve')\n",
        "        print('Thank you for Playing this quiz game!')\n",
        "        print('BYE!')\n",
        "else:\n",
        "  print('Sorry to hear that maybe next time.')"
      ],
      "execution_count": null,
      "outputs": [
        {
          "output_type": "stream",
          "name": "stdout",
          "text": [
            "Welcome to the Quiz! Let us do a Quick Knowledge Assessment. Multiple answers will be separated by the word (and)\n",
            "Are you ready to play? (yes/no) :yes\n",
            "Question 1: How many states is in the USA?50\n",
            "correct\n",
            "Question 2: What is Americas favorite pie? apple\n",
            "Wrong Answer :(The correct answer is: Apple\n",
            "Question 3: What are the two App Engine envoroments?flexible and standard\n",
            "correct\n",
            "Question 4: Who made Playstation ?sony\n",
            "Wrong Answer :(The correct answer is: Sony\n",
            "Question 5: True or False: You must stop at all red lights?true\n",
            "correct\n"
          ]
        }
      ]
    },
    {
      "cell_type": "markdown",
      "metadata": {
        "id": "RQ1V29Rwr4XP"
      },
      "source": [
        ""
      ]
    }
  ]
}